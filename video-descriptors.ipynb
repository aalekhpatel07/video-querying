{
 "cells": [
  {
   "cell_type": "markdown",
   "id": "7fc9848d",
   "metadata": {},
   "source": [
    "## Main imports"
   ]
  },
  {
   "cell_type": "code",
   "execution_count": null,
   "id": "118abd84",
   "metadata": {},
   "outputs": [],
   "source": [
    "import numpy as np\n",
    "from matplotlib import pyplot as plt\n",
    "from numba import (\n",
    "    jit,\n",
    "    njit,\n",
    "    vectorize\n",
    ")\n",
    "from concurrent.futures import ThreadPoolExecutor\n",
    "from copy import deepcopy as cp\n",
    "from pathlib import Path\n",
    "import pandas as pd\n",
    "import random\n",
    "import core\n",
    "import perturb as pe"
   ]
  },
  {
   "cell_type": "code",
   "execution_count": null,
   "id": "c245e763",
   "metadata": {},
   "outputs": [],
   "source": [
    "SOURCE = Path('./data/input')\n",
    "DEST = Path('./data/output')"
   ]
  },
  {
   "cell_type": "code",
   "execution_count": null,
   "id": "e163db3f",
   "metadata": {},
   "outputs": [],
   "source": [
    "mapping = pd.read_csv(SOURCE / \"mapping.csv\")"
   ]
  },
  {
   "cell_type": "code",
   "execution_count": null,
   "id": "e6464a92",
   "metadata": {},
   "outputs": [],
   "source": [
    "img = pe.NeatImage.read(DEST / \"pexels-artem-podrez-6952660.jpeg\")\n",
    "vid = pe.NeatVideo.read(SOURCE / \"01.mp4\")"
   ]
  },
  {
   "cell_type": "code",
   "execution_count": null,
   "id": "efeabd70",
   "metadata": {},
   "outputs": [],
   "source": [
    "peaks = vid.keyframe_indices()\n",
    "# print(vals)"
   ]
  },
  {
   "cell_type": "code",
   "execution_count": null,
   "id": "ad7d5e7b",
   "metadata": {},
   "outputs": [],
   "source": [
    "peaks"
   ]
  },
  {
   "cell_type": "code",
   "execution_count": null,
   "id": "0a10b6ba",
   "metadata": {
    "scrolled": true
   },
   "outputs": [],
   "source": [
    "print(vid)"
   ]
  },
  {
   "cell_type": "code",
   "execution_count": null,
   "id": "c2364b02",
   "metadata": {},
   "outputs": [],
   "source": [
    "vid.sepia(vid).show()"
   ]
  },
  {
   "cell_type": "code",
   "execution_count": null,
   "id": "6cf1e4c8",
   "metadata": {},
   "outputs": [],
   "source": [
    "b = img.blur(ksize=800, sigma=30)"
   ]
  },
  {
   "cell_type": "code",
   "execution_count": null,
   "id": "fea703e6",
   "metadata": {},
   "outputs": [],
   "source": [
    "b.show()"
   ]
  },
  {
   "cell_type": "code",
   "execution_count": null,
   "id": "cd2af1a4",
   "metadata": {},
   "outputs": [],
   "source": [
    "np.abs(img.im - b.im)"
   ]
  },
  {
   "cell_type": "code",
   "execution_count": null,
   "id": "064216f0",
   "metadata": {},
   "outputs": [],
   "source": [
    "img = pe.NeatImage.read(DEST / \"pexels-artem-podrez-6952660.jpeg\")"
   ]
  },
  {
   "cell_type": "code",
   "execution_count": null,
   "id": "e9bb73b7",
   "metadata": {},
   "outputs": [],
   "source": [
    "np.abs(img.im - b.im)"
   ]
  },
  {
   "cell_type": "code",
   "execution_count": null,
   "id": "9d164c8d",
   "metadata": {},
   "outputs": [],
   "source": [
    "img.show()"
   ]
  },
  {
   "cell_type": "code",
   "execution_count": null,
   "id": "24f28ad8",
   "metadata": {},
   "outputs": [],
   "source": []
  },
  {
   "cell_type": "code",
   "execution_count": null,
   "id": "c87cd762",
   "metadata": {},
   "outputs": [],
   "source": [
    "def get_random_frames(vid):\n",
    "    frames = np.random.randint(\n",
    "    vid.metadata[\"total_frames\"],\n",
    "    size=(10,),\n",
    "    dtype=np.int16\n",
    ")\n",
    "    return frames"
   ]
  },
  {
   "cell_type": "code",
   "execution_count": null,
   "id": "502e49e2",
   "metadata": {},
   "outputs": [],
   "source": [
    "def take_random_screen_shots(vid_source()):\n",
    "    \n",
    "    return"
   ]
  },
  {
   "cell_type": "code",
   "execution_count": null,
   "id": "aea83247",
   "metadata": {},
   "outputs": [],
   "source": [
    "# def screenshot_frames(frame, out):\n",
    "#     vid = pe.NeatVideo.read(SOURCE / \"pexels-cottonbro-7037991.mp4\")\n",
    "#     img = vid.screenshot(frame=frame)\n",
    "#     img.save(out)"
   ]
  },
  {
   "cell_type": "code",
   "execution_count": null,
   "id": "ad9ed0cc",
   "metadata": {},
   "outputs": [],
   "source": [
    "vid = pe.NeatVideo.read(SOURCE / \"pexels-cottonbro-7037991.mp4\")"
   ]
  },
  {
   "cell_type": "code",
   "execution_count": null,
   "id": "81f46bb7",
   "metadata": {},
   "outputs": [],
   "source": [
    "vid.metadata"
   ]
  },
  {
   "cell_type": "code",
   "execution_count": null,
   "id": "d84bbee9",
   "metadata": {},
   "outputs": [],
   "source": [
    "idcs = vid.keyframe_indices()"
   ]
  },
  {
   "cell_type": "code",
   "execution_count": null,
   "id": "252fc5ee",
   "metadata": {},
   "outputs": [],
   "source": [
    "# frames = np.random.randint(\n",
    "#     vid.metadata[\"total_frames\"],\n",
    "#     size=(200,),\n",
    "#     dtype=np.int16\n",
    "# )"
   ]
  },
  {
   "cell_type": "code",
   "execution_count": null,
   "id": "af8de0b8",
   "metadata": {},
   "outputs": [],
   "source": [
    "# screenshots = vid.screenshot_many(frames)"
   ]
  },
  {
   "cell_type": "code",
   "execution_count": null,
   "id": "69d063c7",
   "metadata": {},
   "outputs": [],
   "source": [
    "# for frame, neat_img in zip(frames, screenshots):\n",
    "#     neat_img.save(DEST / f\"pexels-cottonbro-7037991_{frame:03d}.jpg\")"
   ]
  },
  {
   "cell_type": "code",
   "execution_count": null,
   "id": "66e33131",
   "metadata": {},
   "outputs": [],
   "source": [
    "ni1 = dc(ni)"
   ]
  },
  {
   "cell_type": "code",
   "execution_count": null,
   "id": "2056cb04",
   "metadata": {},
   "outputs": [],
   "source": [
    "ni1.sepia().show()"
   ]
  },
  {
   "cell_type": "code",
   "execution_count": null,
   "id": "30bff223",
   "metadata": {},
   "outputs": [],
   "source": [
    "ni.show()"
   ]
  },
  {
   "cell_type": "code",
   "execution_count": null,
   "id": "3ccc0f20",
   "metadata": {},
   "outputs": [],
   "source": [
    "ni.show()"
   ]
  },
  {
   "cell_type": "code",
   "execution_count": null,
   "id": "39e53ef4",
   "metadata": {},
   "outputs": [],
   "source": []
  },
  {
   "cell_type": "code",
   "execution_count": null,
   "id": "bdb97f86",
   "metadata": {
    "scrolled": true
   },
   "outputs": [],
   "source": [
    "ni.sepia().show()"
   ]
  },
  {
   "cell_type": "code",
   "execution_count": null,
   "id": "70856e80",
   "metadata": {},
   "outputs": [],
   "source": [
    "ni.show()"
   ]
  },
  {
   "cell_type": "code",
   "execution_count": null,
   "id": "172303cc",
   "metadata": {},
   "outputs": [],
   "source": []
  }
 ],
 "metadata": {
  "kernelspec": {
   "display_name": "Python 3 (ipykernel)",
   "language": "python",
   "name": "python3"
  },
  "language_info": {
   "codemirror_mode": {
    "name": "ipython",
    "version": 3
   },
   "file_extension": ".py",
   "mimetype": "text/x-python",
   "name": "python",
   "nbconvert_exporter": "python",
   "pygments_lexer": "ipython3",
   "version": "3.9.6"
  }
 },
 "nbformat": 4,
 "nbformat_minor": 5
}
